{
 "cells": [
  {
   "cell_type": "code",
   "execution_count": 72,
   "metadata": {},
   "outputs": [],
   "source": [
    "import numpy as np\n",
    "from scipy.integrate import solve_ivp\n",
    "from functools import partial\n",
    "import matplotlib.pyplot as plt\n",
    "\n",
    "class Planet:\n",
    "    def __init__(self, name, r, m, v):\n",
    "        self.name = name\n",
    "        self.r = r #vector\n",
    "        self.m = m\n",
    "        self.v = v #vector\n",
    "\n",
    "class System:\n",
    "    def __init__(self):\n",
    "        self.planets = []\n",
    "    def add_planet(self, planet):\n",
    "        self.planets.append(planet)\n",
    "    \n",
    "    def equations(self, t, s, m):\n",
    "        # s = [r;v] = [rx, ry, rz, vx, vy, vz] has length 6n\n",
    "        # ds/dt = [v;F/m]\n",
    "        #A = [[0, 1], [F/m, 0]]\n",
    "        G = 6.674 * 10**-11\n",
    "        n = len(self.planets)\n",
    "        A = np.zeros((n*2, n*2))\n",
    "        s_v=np.array([s[i:i+3] for i in range(0, 6*n, 3)])\n",
    "        #print(s_v)\n",
    "        #plt.plot(s_v[:2,0], s_v[:2,1], 'o')\n",
    "        for i in range(n):\n",
    "            A[i][n+i] = 1\n",
    "            for j in range(n):\n",
    "                if i != j:\n",
    "                    A[i+n][j] = G * m[j] / (np.linalg.norm(s_v[i] - s_v[j])**3)\n",
    "                else:\n",
    "                    A[i+n][j] = -1 * np.sum([G * m[k] / (np.linalg.norm(s_v[i] - s_v[k])**3) for k in range(n) if k != i])\n",
    "        B = np.zeros((n*6,n*6))\n",
    "        for i in range(n):\n",
    "            B[3*i][3*n+3*i] = 1\n",
    "            B[3*i+1][3*n+3*i+1] = 1\n",
    "            B[3*i+2][3*n+3*i+2] = 1\n",
    "            for j in range(n):\n",
    "                if A[i+n][j] != 0:\n",
    "                    B[3*n+3*i][3*j] = A[i+n][j]\n",
    "                    B[3*n+3*i+1][3*j+1] = A[i+n][j]\n",
    "                    B[3*n+3*i+2][3*j+2] = A[i+n][j]\n",
    "        #print(A)\n",
    "        #print(B)\n",
    "        return np.dot(B,s)\n",
    "    \n",
    "    def update(self, dt):\n",
    "        r = np.array([list(p.r) for p in self.planets])\n",
    "        v = np.array([list(p.v) for p in self.planets])\n",
    "        s = np.vstack((r, v)).flatten()\n",
    "        t=np.linspace(0, dt, dt*2) #update 2 times per sec\n",
    "        #print(self.equations(0, s, np.array([p.m for p in self.planets])))\n",
    "        #print(s.flatten())\n",
    "\n",
    "        f = partial(self.equations, m=[p.m for p in self.planets])\n",
    "        sol = solve_ivp(f, [0, dt], s, t_eval=t)\n",
    "        n = len(self.planets)\n",
    "        for i, p in enumerate(self.planets):\n",
    "            p.r = np.array([sol.y[3*i][-1], sol.y[3*i+1][-1], sol.y[3*i+2][-1]])\n",
    "            p.v = np.array([sol.y[3*n+3*i][-1], sol.y[3*n+3*i+1][-1], sol.y[3*n+3*i+2][-1]])\n",
    "        return sol.y\n",
    "\n",
    "    \n",
    "def sphere2cart(r, theta, phi):\n",
    "    #translate sphere coordinates to cartesian coordinates\n",
    "    #[r, theta, phi] -> [x, y, z]\n",
    "    return np.array([r * np.sin(theta) * np.cos(phi), r * np.sin(theta) * np.sin(phi), r * np.cos(theta)])\n",
    "def cart2sphere(x, y, z):\n",
    "    #translate cartesian coordinates to sphere coordinates\n",
    "    r = np.sqrt(x**2 + y**2 + z**2)\n",
    "    theta = np.arccos(z / r)\n",
    "    phi = np.arctan2(y, x)\n",
    "    return np.array([r, theta, phi])\n",
    "\n"
   ]
  },
  {
   "cell_type": "code",
   "execution_count": 73,
   "metadata": {},
   "outputs": [],
   "source": [
    "p1 = Planet(\"Earth\", np.array([0,0,0]), 5.972 * 10**24, np.array([-10, 0, 0]))\n",
    "p2 = Planet(\"Moon\", np.array([0,384400000,0]), 7.342 * 10**22, np.array([1200, 0, 0]))\n",
    "#p3 = Planet(\"sate\", np.array([1000,0,0]), 3000, np.array([0, .2*1000, 0]))\n",
    "s = System()\n",
    "#initial energy, momentum, and angular momentum\n",
    "U0 = 0.5 * p1.m * np.linalg.norm(p1.v)**2 + 0.5 * p2.m * np.linalg.norm(p2.v)**2 #- 6.674 * 10**-11 * p1.m * p2.m / np.linalg.norm(p1.r - p2.r)\n",
    "P0 = p1.m * p1.v + p2.m * p2.v\n",
    "T0 = np.cross(p1.r, p1.m * p1.v) + np.cross(p2.r, p2.m * p2.v)\n",
    "s.add_planet(p1)\n",
    "s.add_planet(p2)\n",
    "#s.add_planet(p3)\n",
    "sol = s.update(60*24*60*60)"
   ]
  },
  {
   "cell_type": "code",
   "execution_count": 74,
   "metadata": {},
   "outputs": [
    {
     "data": {
      "text/plain": [
       "array([21837119.4955833 ,   494295.18196586,        0.        ])"
      ]
     },
     "metadata": {},
     "output_type": "display_data"
    },
    {
     "data": {
      "text/plain": [
       "<__main__.Planet at 0x7fbd4a2a5f00>"
      ]
     },
     "metadata": {},
     "output_type": "display_data"
    },
    {
     "data": {
      "text/plain": [
       "[<matplotlib.lines.Line2D at 0x7fbd4a68d120>]"
      ]
     },
     "execution_count": 74,
     "metadata": {},
     "output_type": "execute_result"
    },
    {
     "data": {
      "image/png": "[encoded data removed]",
      "text/plain": [
       "<Figure size 640x480 with 1 Axes>"
      ]
     },
     "metadata": {},
     "output_type": "display_data"
    }
   ],
   "source": [
    "display(s.planets[0].r, s.planets[1])\n",
    "fig = plt.figure()\n",
    "plt.plot(sol[3], sol[4])\n",
    "plt.plot(sol[0],sol[1])\n",
    "#plt.plot(sol[6],sol[7])"
   ]
  },
  {
   "cell_type": "code",
   "execution_count": 75,
   "metadata": {},
   "outputs": [
    {
     "data": {
      "text/plain": [
       "(4.988577558691859e+28,\n",
       " 5.3161e+28,\n",
       " array([ 2.83840000e+25, -1.15964117e+11,  0.00000000e+00]),\n",
       " array([2.8384e+25, 0.0000e+00, 0.0000e+00]),\n",
       " array([ 0.00000000e+00,  0.00000000e+00, -3.38275603e+34]),\n",
       " array([ 0.00000000e+00,  0.00000000e+00, -3.38671776e+34]))"
      ]
     },
     "execution_count": 75,
     "metadata": {},
     "output_type": "execute_result"
    }
   ],
   "source": [
    "p1.v = s.planets[0].v\n",
    "p2.v = s.planets[1].v\n",
    "U = 0.5 * p1.m * np.linalg.norm(p1.v)**2 + 0.5 * p2.m * np.linalg.norm(p2.v)**2 #- 6.674 * 10**-11 * p1.m * p2.m / np.linalg.norm(p1.r - p2.r)\n",
    "P = p1.m * p1.v + p2.m * p2.v\n",
    "T = np.cross(p1.r, p1.m * p1.v) + np.cross(p2.r, p2.m * p2.v)\n",
    "U,U0,P,P0, T, T0"
   ]
  },
  {
   "cell_type": "markdown",
   "metadata": {},
   "source": [
    "***TODO***:\n",
    "add energy correction & angular momentum correction //\n",
    "add orbit & temp"
   ]
  }
 ],
 "metadata": {
  "kernelspec": {
   "display_name": "Python 3",
   "language": "python",
   "name": "python3"
  },
  "language_info": {
   "codemirror_mode": {
    "name": "ipython",
    "version": 3
   },
   "file_extension": ".py",
   "mimetype": "text/x-python",
   "name": "python",
   "nbconvert_exporter": "python",
   "pygments_lexer": "ipython3",
   "version": "3.10.13"
  }
 },
 "nbformat": 4,
 "nbformat_minor": 2
}
